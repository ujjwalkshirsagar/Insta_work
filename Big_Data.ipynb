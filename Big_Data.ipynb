{
 "cells": [
  {
   "cell_type": "code",
   "execution_count": 7,
   "id": "942cd670",
   "metadata": {
    "scrolled": true
   },
   "outputs": [
    {
     "name": "stdout",
     "output_type": "stream",
     "text": [
      "File Size is 483.2861785888672 MB\n",
      "<class 'dict'>\n",
      "Fashion/beauty/health\n",
      "influencer\n",
      "For collabs and promotions kindly mail ketki30041984@gmail.com or dm😌\n",
      "https://www.instagram.com/ketkichadha/\n",
      "<class 'dict'>\n",
      "Dm for Paid Promotions\n",
      "Acting Is My Passion \n",
      "My Smile Is Awesome\n",
      "How To Make happy  \n",
      "Learn Here.....😊\n",
      "Pure Soul Day 12 September\n",
      "https://www.instagram.com/lata.atal/\n",
      "<class 'dict'>\n",
      "First proud to be an Indian\n",
      "Miss indias mother\n",
      "My everything my India\n",
      "Indian culture promoter\n",
      "Hindi bindi pratidwandi lover\n",
      "Vandai matram\n",
      "Influencer\n",
      "https://www.instagram.com/vinitaparihar29/\n",
      "Number of Lines in the file is 3\n"
     ]
    }
   ],
   "source": [
    "# import resource\n",
    "import re\n",
    "import json\n",
    "import mysql.connector\n",
    "import csv\n",
    "import os\n",
    "csv_file = open('New1.csv', 'w+')\n",
    "writer = csv.writer(csv_file)\n",
    "file_name = \"new_json.txt\"\n",
    "\n",
    "print(f'File Size is {os.stat(file_name).st_size / (1024 * 1024)} MB')\n",
    "\n",
    "txt_file = open(file_name)\n",
    "\n",
    "count = 0\n",
    "months=[]\n",
    "for line in txt_file:\n",
    "    # we can process file line by line here, for simplicity I am taking count of lines\n",
    "#     print(line)\n",
    "    months.append(line)\n",
    "    count += 1\n",
    "    writer.writerow([line])\n",
    "    y = json.loads(line)\n",
    "    l=y[\"biography\"]\n",
    "    k=y[\"username\"]\n",
    "    m1=\"https://www.instagram.com/\"+k+\"/\"\n",
    "    \n",
    "    print(type(y))\n",
    "    print(l)\n",
    "    print(m1)\n",
    "    \n",
    "    \n",
    "    if count==3:\n",
    "        break\n",
    "#     print(line)\n",
    "#     try:\n",
    "#         conn3=mysql.connector.connect(user='root',password='Rahul',host='localhost',database='my_db',port=3306)\n",
    "#         myc3=conn3.cursor(buffered=True)\n",
    "# #         stud_obj = json.loads(line)\n",
    "# #         print(type(stud_obj))\n",
    "#         escaped_string = re.escape(line)\n",
    "#         sql3=f'INSERT INTO jsn(JSN) VALUES(\"{escaped_string}\")'\n",
    "#         myc3.execute(sql3)\n",
    "#         conn3.commit()\n",
    "#     except Exception as e:\n",
    "#         print(f\"ERROR{e}\")\n",
    "#     print(\"\\n\\n\\n\\n\\n+++++++++++++++++_________________________++++++++++++++++++++++++++++++___________________+++++++++++++\")\n",
    "txt_file.close()\n",
    "conn3.close()\n",
    "print(f'Number of Lines in the file is {count}')\n",
    "\n",
    "# print('Peak Memory Usage =', resource.getrusage(resource.RUSAGE_SELF).ru_maxrss)\n",
    "# print('User Mode Time =', resource.getrusage(resource.RUSAGE_SELF).ru_utime)\n",
    "# print('System Mode Time =', resource.getrusage(resource.RUSAGE_SELF).ru_stime)"
   ]
  }
 ],
 "metadata": {
  "kernelspec": {
   "display_name": "Python 3",
   "language": "python",
   "name": "python3"
  },
  "language_info": {
   "codemirror_mode": {
    "name": "ipython",
    "version": 3
   },
   "file_extension": ".py",
   "mimetype": "text/x-python",
   "name": "python",
   "nbconvert_exporter": "python",
   "pygments_lexer": "ipython3",
   "version": "3.8.8"
  }
 },
 "nbformat": 4,
 "nbformat_minor": 5
}
