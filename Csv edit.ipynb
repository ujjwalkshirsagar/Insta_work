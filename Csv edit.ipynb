{
 "cells": [
  {
   "cell_type": "code",
   "execution_count": null,
   "id": "0a4cb7f4",
   "metadata": {},
   "outputs": [],
   "source": [
    "\n",
    "inFile = open('1.csv','r')\n",
    "\n",
    "outFile = open('2.csv','w')\n",
    "\n",
    "listLines = []\n",
    "\n",
    "for line in inFile:\n",
    "\n",
    "    if line in listLines:\n",
    "        continue\n",
    "\n",
    "    else:\n",
    "        outFile.write(line)\n",
    "        listLines.append(line)\n",
    "\n",
    "outFile.close()\n",
    "\n",
    "inFile.close()"
   ]
  },
  {
   "cell_type": "code",
   "execution_count": null,
   "id": "5c8db961",
   "metadata": {},
   "outputs": [],
   "source": [
    "file1 = open(\"sample1.csv\", \"a\")\n",
    "file2 = open(\"sample2.csv\", \"r\")\n",
    "\n",
    "for line in file2:\n",
    "    file1.write(line)\n",
    "\n",
    "file1.close()\n",
    "file2.close()"
   ]
  }
 ],
 "metadata": {
  "kernelspec": {
   "display_name": "Python 3",
   "language": "python",
   "name": "python3"
  },
  "language_info": {
   "codemirror_mode": {
    "name": "ipython",
    "version": 3
   },
   "file_extension": ".py",
   "mimetype": "text/x-python",
   "name": "python",
   "nbconvert_exporter": "python",
   "pygments_lexer": "ipython3",
   "version": "3.8.8"
  }
 },
 "nbformat": 4,
 "nbformat_minor": 5
}
