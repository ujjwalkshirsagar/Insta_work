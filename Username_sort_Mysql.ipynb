{
 "cells": [
  {
   "cell_type": "code",
   "execution_count": 12,
   "id": "ca43d2b7",
   "metadata": {},
   "outputs": [
    {
     "name": "stdout",
     "output_type": "stream",
     "text": [
      "<class 'str'>\n",
      "[\n"
     ]
    }
   ],
   "source": [
    "# import resource\n",
    "import re\n",
    "import json\n",
    "import mysql.connector\n",
    "import csv\n",
    "import os\n",
    "# csv_file = open('New1.csv', 'w+')\n",
    "# writer = csv.writer(csv_file)\n",
    "\n",
    "\n",
    "\n",
    "\n",
    "    \n",
    "count=0\n",
    "conn1=mysql.connector.connect(user='root',password='Rahul',host='localhost',database='my_db',port=3306)\n",
    "myc1=conn1.cursor(buffered=True)\n",
    "myc1.execute(\"SELECT Username FROM details2\")\n",
    "result_set = myc1.fetchall()\n",
    "\n",
    "file_name = \"done_inf.txt\"\n",
    "txt_file = open(file_name)\n",
    "\n",
    "for row in result_set:\n",
    "   \n",
    "#     m1=\"https://www.instagram.com/\"+row #+\"/\"\n",
    "#     m1=f\"{m1}\"\n",
    "#     print(m1)\n",
    "#     print(type(m1))\n",
    "#     break\n",
    "      print(type(row))\n",
    "      print(row)\n",
    "        \n",
    "        \n",
    "#     if row in result_set:\n",
    "#         print(f\"Duplicate = {row}\")\n",
    "        \n",
    "#         continue\n",
    "      break\n",
    "#     else:\n",
    "#         l=row\n",
    "#         m1=\"https://www.instagram.com/\"+l\n",
    "#         m1=f\"{m1}\"\n",
    "#         outFile.write(line)\n",
    "#         listLines.append(line)\n",
    "#         print(m1)\n",
    "      count += 1\n",
    "\n",
    "\n",
    "# print(count)\n",
    "txt_file.close()\n",
    "conn1.close()"
   ]
  },
  {
   "cell_type": "code",
   "execution_count": 2,
   "id": "810c6f69",
   "metadata": {},
   "outputs": [
    {
     "name": "stdout",
     "output_type": "stream",
     "text": [
      "File Size is 0.012623786926269531 MB\n",
      "{\"ok\":true,\"profile\":{\"id\":1166277,\"name\":\"Mohanlal\",\"handle\":\"Mohanlal\",\"profile_image\":\"https:\\/\\/s3-ap-southeast-1.amazonaws.com\\/terareach\\/profile_images\\/Mohanlal_original_1620662379.65.JPEG\",\"bio\":\"   Mohanlal The Complete Actor - To know everything about actor Mohanlal - Biography, Movies, Photo gallery, Army Images...\",\"categories\":{\"Arts & Entertainment\":99,\"Movies\":99},\"recent_costs\":false,\"is_auth\":false,\"is_contact\":true,\"is_verified\":true,\"location\":\"Kochi\",\"instagram\":{\"id\":\"INQ1591958651wTd\",\"profile_id\":1166277,\"user_id\":2247242738,\"username\":\"mohanlal\",\"profile_link\":\"https:\\/\\/instagram.com\\/mohanlal\",\"full_name\":\"Mohanlal\",\"is_verified\":1,\"bio\":\"A Proud and Blessed Indian! A part of the Indian Movie Fraternity from God's Own Country.\",\"media_count\":\"438\",\"followers\":\"3.9m\",\"average_interaction\":\"219k\",\"average_views\":\"646.8k\",\"average_comments\":\"0.9k\",\"average_likes\":\"218.1k\",\"engagement_rate\":\"5.62%\",\"score\":\"9.24\",\"has_demographics\":true,\"engagement_analysis\":{\"influencer_average\":416395,\"industrial_average\":351773,\"recent_engagements\":[342187,183511,547904,355721,141626,485373,581887,89809,153919,123060,293797,415125,377607,166372,451459,611644,348226,418352,231857,547753],\"y_axis_max\":611644,\"y_axis_min\":89809,\"success\":true},\"follower_growth_analysis\":{\"followers_growth_last_30days\":-0.11,\"followers_gained_last_30days\":\"-8,400\",\"followers_growth_series\":[6912011,6913257,6912244,6906920,6906528,6904757,6908216,6909771,6918005],\"y_axis_min\":6904757,\"success\":true},\"score_percentsplit_group\":\"Top 1%\",\"top_used_hashtags\":[\"#shirleysetia\",\"#shirleytravels\",\"#shirleysetialive\",\"#teamshirley\",\"#nikamma\",\"#newzealand\",\"#auckland\",\"#maldives\",\"#repost\",\"#naiyojaana\",\"#shirleyinindia\",\"#nofilter\",\"#koivinahi\",\"#throwback\",\"#maska\"],\"top_used_words\":[\"love\",\"hope\",\"happy\",\"birthday\",\"link\",\"time\",\"full\",\"video\",\"picture\",\"bio\",\"making\",\"song\",\"life\",\"hai\",\"check\"],\"true_reach\":\"2.5m\",\"engagement_split\":[{\"name\":\"Likes\",\"value\":413731},{\"name\":\"Comments\",\"value\":2664}]},\"twitter\":{\"id\":\"148248527\",\"profile_id\":1166277,\"name\":\"Mohanlal\",\"handle\":\"Mohanlal\",\"profile_link\":\"https:\\/\\/twitter.com\\/Mohanlal\",\"is_verified\":true,\"description\":\"A Proud and Blessed Indian! A part of the Indian Movie Fraternity from God's Own Country.\",\"followers\":\"6.4m\",\"tweet_count\":\"2.2k\",\"average_interaction\":\"5.4k\",\"average_favorites\":\"4.5k\",\"average_retweets\":\"0.9k\",\"engagement_rate\":\"0.08%\",\"score\":\"9.20\",\"has_demographics\":true,\"engagement_analysis\":{\"influencer_average\":871,\"industrial_average\":568,\"recent_engagements\":[3876,270,168,213,205,212,226,184,225,194,221,241,379,282,412,429,866,86,90,2174],\"y_axis_max\":3876,\"y_axis_min\":86,\"success\":true},\"follower_growth_analysis\":{\"followers_growth_last_30days\":0.06,\"followers_gained_last_30days\":\"0.9k\",\"followers_growth_series\":[1407748,1407746,1407764,1407776,1407817,1407849,1407514,1407655,1408108,1407661,1408108,1408132,1408144,1408191,1407750],\"y_axis_min\":1407514,\"success\":true},\"score_percentsplit_group\":\"Top 1%\",\"top_used_hashtags\":[\"#naiyojaana6thdec\",\"#shirleyspeaks\",\"#nikamma\",\"#naiyojaana\",\"#jabkoibaat\",\"#maska\",\"#shirleysetia\",\"#koivinahi\",\"#shirleytravels\",\"#teamshirley\",\"#shirleyjubinmixtape2\",\"#shirleysetialive\",\"#nagashaurya\",\"#biba\",\"#bhumbro\"],\"top_used_words\":[\"love\",\"happy\",\"hai\",\"hope\",\"time\",\"birthday\",\"song\",\"nahi\",\"toh\",\"live\",\"haha\",\"video\",\"shirley\",\"guys\",\"lol\"],\"true_reach\":\"6.4k\",\"engagement_split\":[{\"name\":\"Favourites\",\"value\":831},{\"name\":\"Retweets\",\"value\":40}]},\"blog\":{\"id\":139792,\"profile_id\":1166277,\"title\":\"   Mohanlal Official Website - The Complete Actor\\n\",\"alexa_rank\":\"1.5m\",\"blog_url_simple\":\"thecompleteactor.com\",\"blog_url\":\"http:\\/\\/thecompleteactor.com\",\"domain_authority\":\"32\",\"description\":\"   Mohanlal The Complete Actor - To know everything about actor Mohanlal - Biography, Movies, Photo gallery, Army Images, Art Collections, Awards, Latest News and Updates.\\n\",\"score\":\"2.76\",\"score_percentsplit_group\":null,\"top_used_hashtags\":[],\"top_used_words\":[]},\"brands\":{\"selected_platform\":\"all\",\"brand_mentions\":[{\"topic_id\":261,\"category_id\":11,\"category_name\":\"E-commerce\",\"name\":\"Bookmyshow\",\"image\":\"https:\\/\\/s3-ap-southeast-1.amazonaws.com\\/terareach\\/brand_logos\\/bookmyshowin_logo_1600673004.52.JPEG\",\"post_count\":1,\"mentioned_platforms\":[\"instagram\"],\"total_platforms\":1},{\"topic_id\":116,\"category_id\":7,\"category_name\":\"Telecommunication\",\"name\":\"Airtel\",\"image\":\"https:\\/\\/s3-ap-southeast-1.amazonaws.com\\/terareach\\/brand_logos\\/airtelindia_logo_1600672319.66.JPEG\",\"post_count\":1,\"mentioned_platforms\":[\"instagram\"],\"total_platforms\":1},{\"topic_id\":288,\"category_id\":13,\"category_name\":\"Watches And Eyewear\",\"name\":\"Giorgio Armani\",\"image\":\"https:\\/\\/s3-ap-southeast-1.amazonaws.com\\/terareach\\/brand_logos\\/armani_logo_1574419130.69.JPEG\",\"post_count\":1,\"mentioned_platforms\":[\"twitter\"],\"total_platforms\":1},{\"topic_id\":358,\"category_id\":16,\"category_name\":\"Tv Channels\",\"name\":\"Zee Studio\",\"image\":\"https:\\/\\/terareach.s3-ap-southeast-1.amazonaws.com\\/brand_logos\\/zee5_logo_1574418488.25.JPEG\",\"post_count\":1,\"mentioned_platforms\":[\"twitter\"],\"total_platforms\":1}],\"brand_categories\":[{\"id\":11,\"name\":\"E-commerce\"},{\"id\":7,\"name\":\"Telecommunication\"},{\"id\":13,\"name\":\"Watches And Eyewear\"},{\"id\":16,\"name\":\"Tv Channels\"}]},\"interests\":[[\"Movies\",49.28],[\"Healthcare\",11.35],[\"Yoga\",6.34],[\"Athlete\",3.96],[\"Literature\",3.72]]}}\n",
      "\n",
      "{\"ok\":true,\"profile\":{\"id\":9923566,\"name\":\"Nivin Pauly\",\"handle\":\"nivinpaulyactor\",\"profile_image\":\"https:\\/\\/s3-ap-southeast-1.amazonaws.com\\/terareach\\/profile_images\\/nivinpaulyactor_original_1559117074.8.JPEG\",\"bio\":\"Actor | Producer | Dreamer\",\"categories\":[],\"recent_costs\":false,\"is_auth\":false,\"is_contact\":false,\"is_verified\":false,\"location\":\"\",\"brands\":{\"selected_platform\":\"all\",\"brand_mentions\":[],\"brand_categories\":[]},\"interests\":[]}}\n",
      "\n",
      "{\"ok\":true,\"profile\":{\"id\":1231247,\"name\":\"Sunny Wayn\",\"handle\":\"SunnyWayn\",\"profile_image\":\"https:\\/\\/s3-ap-southeast-1.amazonaws.com\\/terareach\\/profile_images\\/SunnyWayn_original_1620667008.39.JPEG\",\"bio\":null,\"categories\":[],\"recent_costs\":false,\"is_auth\":false,\"is_contact\":false,\"is_verified\":false,\"location\":\"Kochi\",\"twitter\":{\"id\":\"591520702\",\"profile_id\":1231247,\"name\":\"Sunny Wayn\",\"handle\":\"SunnyWayn\",\"profile_link\":\"https:\\/\\/twitter.com\\/SunnyWayn\",\"is_verified\":false,\"description\":null,\"followers\":\"162.4k\",\"tweet_count\":\"1.4k\",\"average_interaction\":\"45\",\"average_favorites\":\"41\",\"average_retweets\":\"4\",\"engagement_rate\":\"0.03%\",\"score\":\"7.11\",\"has_demographics\":true,\"engagement_analysis\":{\"influencer_average\":871,\"industrial_average\":568,\"recent_engagements\":[3876,270,168,213,205,212,226,184,225,194,221,241,379,282,412,429,866,86,90,2174],\"y_axis_max\":3876,\"y_axis_min\":86,\"success\":true},\"follower_growth_analysis\":{\"followers_growth_last_30days\":0.06,\"followers_gained_last_30days\":\"0.9k\",\"followers_growth_series\":[1407748,1407746,1407764,1407776,1407817,1407849,1407514,1407655,1408108,1407661,1408108,1408132,1408144,1408191,1407750],\"y_axis_min\":1407514,\"success\":true},\"score_percentsplit_group\":\"Top 1%\",\"top_used_hashtags\":[\"#naiyojaana6thdec\",\"#shirleyspeaks\",\"#nikamma\",\"#naiyojaana\",\"#jabkoibaat\",\"#maska\",\"#shirleysetia\",\"#koivinahi\",\"#shirleytravels\",\"#teamshirley\",\"#shirleyjubinmixtape2\",\"#shirleysetialive\",\"#nagashaurya\",\"#biba\",\"#bhumbro\"],\"top_used_words\":[\"love\",\"happy\",\"hai\",\"hope\",\"time\",\"birthday\",\"song\",\"nahi\",\"toh\",\"live\",\"haha\",\"video\",\"shirley\",\"guys\",\"lol\"],\"true_reach\":\"6.4k\",\"engagement_split\":[{\"name\":\"Favourites\",\"value\":831},{\"name\":\"Retweets\",\"value\":40}]},\"brands\":{\"selected_platform\":\"all\",\"brand_mentions\":[],\"brand_categories\":[]},\"interests\":[[\"Movies\",80.17],[\"Dance\",4.13],[\"Cricket\",3.31],[\"Healthcare\",2.48],[\"Gaming\",2.48]]}}\n",
      "\n",
      "{\"ok\":true,\"profile\":{\"id\":9585812,\"name\":\"Neeraj Madhav\",\"handle\":\"neeraj_madhav\",\"profile_image\":\"https:\\/\\/s3-ap-southeast-1.amazonaws.com\\/terareach\\/profile_images\\/neeraj_madhav_original_1620550517.54.JPEG\",\"bio\":\"NEW MUSIC LOADING !\",\"categories\":{\"Arts & Entertainment\":99,\"Movies\":99},\"recent_costs\":true,\"is_auth\":false,\"is_contact\":false,\"is_verified\":true,\"location\":\"Kozhikode\",\"instagram\":{\"id\":\"INQ1551950721NzV\",\"profile_id\":9585812,\"user_id\":1736187724,\"username\":\"neeraj_madhav\",\"profile_link\":\"https:\\/\\/instagram.com\\/neeraj_madhav\",\"full_name\":\"Neeraj Madhav \\/ NJ\",\"is_verified\":1,\"bio\":\"\\u2018First Love\\u2019\\u2764\\ufe0f OUT NOW!\",\"media_count\":\"1.5k\",\"followers\":\"2.4m\",\"average_interaction\":\"82.1k\",\"average_views\":\"273.2k\",\"average_comments\":\"227\",\"average_likes\":\"81.8k\",\"engagement_rate\":\"3.38%\",\"score\":\"9.20\",\"has_demographics\":true,\"engagement_analysis\":{\"influencer_average\":416395,\"industrial_average\":351773,\"recent_engagements\":[342187,183511,547904,355721,141626,485373,581887,89809,153919,123060,293797,415125,377607,166372,451459,611644,348226,418352,231857,547753],\"y_axis_max\":611644,\"y_axis_min\":89809,\"success\":true},\"follower_growth_analysis\":{\"followers_growth_last_30days\":-0.11,\"followers_gained_last_30days\":\"-8,400\",\"followers_growth_series\":[6912011,6913257,6912244,6906920,6906528,6904757,6908216,6909771,6918005],\"y_axis_min\":6904757,\"success\":true},\"score_percentsplit_group\":\"Top 1%\",\"top_used_hashtags\":[\"#shirleysetia\",\"#shirleytravels\",\"#shirleysetialive\",\"#teamshirley\",\"#nikamma\",\"#newzealand\",\"#auckland\",\"#maldives\",\"#repost\",\"#naiyojaana\",\"#shirleyinindia\",\"#nofilter\",\"#koivinahi\",\"#throwback\",\"#maska\"],\"top_used_words\":[\"love\",\"hope\",\"happy\",\"birthday\",\"link\",\"time\",\"full\",\"video\",\"picture\",\"bio\",\"making\",\"song\",\"life\",\"hai\",\"check\"],\"true_reach\":\"2.5m\",\"engagement_split\":[{\"name\":\"Likes\",\"value\":413731},{\"name\":\"Comments\",\"value\":2664}]},\"twitter\":{\"id\":\"1396331300\",\"profile_id\":9585812,\"name\":\"Neeraj Madhav\",\"handle\":\"NeerajMadhavv\",\"profile_link\":\"https:\\/\\/twitter.com\\/NeerajMadhavv\",\"is_verified\":true,\"description\":\"Actor\\/ Screenwriter\",\"followers\":\"40.2k\",\"tweet_count\":\"119\",\"average_interaction\":\"63\",\"average_favorites\":\"61\",\"average_retweets\":\"2\",\"engagement_rate\":\"0.16%\",\"score\":\"7.27\",\"has_demographics\":false,\"engagement_analysis\":{\"influencer_average\":871,\"industrial_average\":568,\"recent_engagements\":[3876,270,168,213,205,212,226,184,225,194,221,241,379,282,412,429,866,86,90,2174],\"y_axis_max\":3876,\"y_axis_min\":86,\"success\":true},\"follower_growth_analysis\":{\"followers_growth_last_30days\":0.06,\"followers_gained_last_30days\":\"0.9k\",\"followers_growth_series\":[1407748,1407746,1407764,1407776,1407817,1407849,1407514,1407655,1408108,1407661,1408108,1408132,1408144,1408191,1407750],\"y_axis_min\":1407514,\"success\":true},\"score_percentsplit_group\":\"Top 1%\",\"top_used_hashtags\":[\"#naiyojaana6thdec\",\"#shirleyspeaks\",\"#nikamma\",\"#naiyojaana\",\"#jabkoibaat\",\"#maska\",\"#shirleysetia\",\"#koivinahi\",\"#shirleytravels\",\"#teamshirley\",\"#shirleyjubinmixtape2\",\"#shirleysetialive\",\"#nagashaurya\",\"#biba\",\"#bhumbro\"],\"top_used_words\":[\"love\",\"happy\",\"hai\",\"hope\",\"time\",\"birthday\",\"song\",\"nahi\",\"toh\",\"live\",\"haha\",\"video\",\"shirley\",\"guys\",\"lol\"],\"true_reach\":\"6.4k\",\"engagement_split\":[{\"name\":\"Favourites\",\"value\":831},{\"name\":\"Retweets\",\"value\":40}]},\"brands\":{\"selected_platform\":\"all\",\"brand_mentions\":[{\"topic_id\":594,\"category_id\":18,\"category_name\":\"Fmcg\",\"name\":\"Horlicks\",\"image\":\"https:\\/\\/s3-ap-southeast-1.amazonaws.com\\/terareach\\/brand_logos\\/horlicksin_logo_1600674320.15.JPEG\",\"post_count\":1,\"mentioned_platforms\":[\"instagram\"],\"total_platforms\":1},{\"topic_id\":58,\"category_id\":2,\"category_name\":\"Automobile\",\"name\":\"Jeep Compass\",\"image\":\"https:\\/\\/s3-ap-southeast-1.amazonaws.com\\/terareach\\/brand_logos\\/jeep_logo_1600672058.63.JPEG\",\"post_count\":1,\"mentioned_platforms\":[\"instagram\"],\"total_platforms\":1},{\"topic_id\":3,\"category_id\":1,\"category_name\":\"Device\",\"name\":\"Apple\",\"image\":\"https:\\/\\/s3-ap-southeast-1.amazonaws.com\\/terareach\\/brand_logos\\/apple_logo_1600671827.52.JPEG\",\"post_count\":1,\"mentioned_platforms\":[\"instagram\"],\"total_platforms\":1},{\"topic_id\":644,\"category_id\":20,\"category_name\":\"Home Decor\",\"name\":\"Berger Paints\",\"image\":\"https:\\/\\/s3-ap-southeast-1.amazonaws.com\\/terareach\\/brand_logos\\/bergerpaintsindia_logo_1600674469.72.JPEG\",\"post_count\":1,\"mentioned_platforms\":[\"instagram\"],\"total_platforms\":1},{\"topic_id\":83,\"category_id\":1,\"category_name\":\"Device\",\"name\":\"Philips\",\"image\":\"https:\\/\\/s3-ap-southeast-1.amazonaws.com\\/terareach\\/brand_logos\\/philips_logo_1600672163.39.JPEG\",\"post_count\":1,\"mentioned_platforms\":[\"instagram\"],\"total_platforms\":1},{\"topic_id\":518,\"category_id\":18,\"category_name\":\"Fmcg\",\"name\":\"Parachute\",\"image\":\"https:\\/\\/s3-ap-southeast-1.amazonaws.com\\/terareach\\/brand_logos\\/parachute_advansed_logo_1600674036.21.JPEG\",\"post_count\":1,\"mentioned_platforms\":[\"instagram\"],\"total_platforms\":1},{\"topic_id\":105,\"category_id\":5,\"category_name\":\"Banking And Finance\",\"name\":\"Sbi\",\"image\":\"https:\\/\\/s3-ap-southeast-1.amazonaws.com\\/terareach\\/brand_logos\\/theofficialsbi_logo_1600672267.67.JPEG\",\"post_count\":1,\"mentioned_platforms\":[\"instagram\"],\"total_platforms\":1}],\"brand_categories\":[{\"id\":18,\"name\":\"Fmcg\"},{\"id\":2,\"name\":\"Automobile\"},{\"id\":1,\"name\":\"Device\"},{\"id\":20,\"name\":\"Home Decor\"},{\"id\":5,\"name\":\"Banking And Finance\"}]},\"interests\":[[\"Movies\",33.33],[\"Photography\",14.67],[\"Dance\",14],[\"Clothing\",10.67],[\"Gadgets\",6]]}}\n",
      "Number of Lines in the file is 4\n"
     ]
    }
   ],
   "source": [
    "# import resource\n",
    "import re\n",
    "import json\n",
    "import mysql.connector\n",
    "import csv\n",
    "import os\n",
    "# csv_file = open('New1.csv', 'w+')\n",
    "# writer = csv.writer(csv_file)\n",
    "file_name = \"sample.txt\"\n",
    "\n",
    "print(f'File Size is {os.stat(file_name).st_size / (1024 * 1024)} MB')\n",
    "\n",
    "\n",
    "\n",
    "txt_file = open(file_name)\n",
    "\n",
    "count = 0\n",
    "\n",
    "for line in txt_file:\n",
    "   \n",
    "    \n",
    "    count += 1\n",
    "    print(line)\n",
    "\n",
    "\n",
    "txt_file.close()\n",
    "\n",
    "\n",
    "\n",
    "print(f'Number of Lines in the file is {count}')"
   ]
  },
  {
   "cell_type": "code",
   "execution_count": 3,
   "id": "50efa607",
   "metadata": {},
   "outputs": [],
   "source": [
    "txt_file.close()"
   ]
  },
  {
   "cell_type": "code",
   "execution_count": null,
   "id": "c507585b",
   "metadata": {},
   "outputs": [],
   "source": []
  }
 ],
 "metadata": {
  "kernelspec": {
   "display_name": "Python 3",
   "language": "python",
   "name": "python3"
  },
  "language_info": {
   "codemirror_mode": {
    "name": "ipython",
    "version": 3
   },
   "file_extension": ".py",
   "mimetype": "text/x-python",
   "name": "python",
   "nbconvert_exporter": "python",
   "pygments_lexer": "ipython3",
   "version": "3.8.8"
  }
 },
 "nbformat": 4,
 "nbformat_minor": 5
}
