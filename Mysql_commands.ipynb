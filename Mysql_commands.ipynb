{
 "cells": [
  {
   "cell_type": "code",
   "execution_count": null,
   "id": "1da624fb",
   "metadata": {},
   "outputs": [],
   "source": [
    "#pip install mysql-connector-python"
   ]
  },
  {
   "cell_type": "code",
   "execution_count": null,
   "id": "026424ca",
   "metadata": {},
   "outputs": [],
   "source": [
    "import mysql.connector\n",
    "conn=mysql.connector.connect(user='root',password='Rahul',host='localhost',database='new',port=3306)\n",
    "sql=\"CREATE TABLE student1(stuid INT AUTO_INCREMENT PRIMARY KEY,name VARCHAR(20),roll INT,fees FLOAT)\"\n",
    "myc=conn.cursor()\n",
    "myc.execute(sql)\n",
    "conn.close()\n",
    "CREATE TABLE username(\n",
    "    stu_id INT AUTO_INCREMENT PRIMARY KEY,\n",
    "    user name VARCHAR(20) UNIQUE,\n",
    "    roll INT UNIQUE,\n",
    "    fees FLOAT\n",
    ");"
   ]
  },
  {
   "cell_type": "code",
   "execution_count": null,
   "id": "5ab8b68b",
   "metadata": {},
   "outputs": [],
   "source": [
    "# Creating New DATABASE\n",
    "\n",
    "import mysql.connector\n",
    "conn=mysql.connector.connect(user='root',password='Rahul',host='localhost',port=3306)\n",
    "sql=\"Create DATABASE new\"\n",
    "myc=conn.cursor()\n",
    "myc.execute(sql)\n",
    "conn.close()"
   ]
  },
  {
   "cell_type": "code",
   "execution_count": 2,
   "id": "21f507ef",
   "metadata": {},
   "outputs": [],
   "source": [
    "# Creating Table\n",
    "\n",
    "import mysql.connector\n",
    "conn=mysql.connector.connect(user='root',password='Rahul',host='localhost',database='new',port=3306)\n",
    "sql=\"CREATE TABLE student1(stuid INT AUTO_INCREMENT PRIMARY KEY,name VARCHAR(20),roll INT,fees FLOAT)\"\n",
    "myc=conn.cursor()\n",
    "myc.execute(sql)\n",
    "conn.close()\n",
    "\n"
   ]
  },
  {
   "cell_type": "code",
   "execution_count": null,
   "id": "6406f874",
   "metadata": {},
   "outputs": [],
   "source": [
    "# AVOID DUPLICATION USING CONTRAINT (UNIQUE)\n",
    "# While Creating Table Itself\n",
    "\n",
    "\n",
    "\n",
    "# CREATE TABLE stu(\n",
    "#     stu_id INT AUTO_INCREMENT PRIMARY KEY,\n",
    "#     name VARCHAR(20) UNIQUE,\n",
    "#     roll INT UNIQUE,\n",
    "#     fees FLOAT\n",
    "# );\n",
    "\n",
    "# CREATE TABLE Sales (\n",
    "#     Sale_Id int NOT NULL UNIQUE,\n",
    "#     Sale_Amount int NOT NULL,\n",
    "#     Vendor_Name varchar(255) NOT NULL,\n",
    "#     Sale_Date date,\n",
    "#     Profit int\n",
    "# );"
   ]
  },
  {
   "cell_type": "code",
   "execution_count": 17,
   "id": "7aff8db1",
   "metadata": {},
   "outputs": [
    {
     "name": "stdout",
     "output_type": "stream",
     "text": [
      "('stu',)\n",
      "('student',)\n",
      "('student1',)\n"
     ]
    }
   ],
   "source": [
    "# Show tables in Database\n",
    "\n",
    "import mysql.connector\n",
    "conn=mysql.connector.connect(user='root',password='Rahul',host='localhost',database='new',port=3306)\n",
    "sql=\"show tables\"\n",
    "myc=conn.cursor()\n",
    "myc.execute(sql)\n",
    "for t in myc:\n",
    "    print(t)\n",
    "\n",
    "myc.close()\n",
    "conn.close()"
   ]
  },
  {
   "cell_type": "code",
   "execution_count": 31,
   "id": "cf7d3463",
   "metadata": {},
   "outputs": [
    {
     "name": "stdout",
     "output_type": "stream",
     "text": [
      "0\n",
      "11\n",
      "1\n",
      "2\n",
      "Row inserted\n"
     ]
    }
   ],
   "source": [
    "# Inserting DATA in Table\n",
    "\n",
    "import mysql.connector\n",
    "conn=mysql.connector.connect(user='root',password='Rahul',host='localhost',database='new',port=3306)\n",
    "sql=\"INSERT INTO stu(name,roll,fees) VALUES('UK22',1011,1000.2)\"\n",
    "try:\n",
    "    print(\"0\")\n",
    "    myc=conn.cursor()\n",
    "    print(\"11\")\n",
    "    myc.execute(sql)\n",
    "    print(\"1\")\n",
    "    try:\n",
    "        conn.commit()# Save inserted row in Table\n",
    "        print(\"2\")\n",
    "        print(\"Row inserted\")\n",
    "    except:\n",
    "        conn.rollback()\n",
    "        print(\"3\")\n",
    "        print(\"unable to insert data\")\n",
    "    myc.close()\n",
    "    conn.close()\n",
    "except Exception as e:\n",
    "    print(\"U===\",e)\n",
    "    myc.close()\n",
    "    conn.close()"
   ]
  },
  {
   "cell_type": "code",
   "execution_count": null,
   "id": "37ff5624",
   "metadata": {},
   "outputs": [],
   "source": [
    "# ADD a Column\n",
    "\n",
    "\n",
    "# +--------+-------+------+--------+\n",
    "# | stu_id | name  | roll | fees   |\n",
    "# +--------+-------+------+--------+\n",
    "# |      1 | Rohan |  101 | 1000.2 |\n",
    "# +--------+-------+------+--------+\n",
    "# ALTER TABLE stu{TABLE_NAME}\n",
    "# -> ADD Email VARCHAR(255);\n",
    "# +--------+-------+------+--------+-------+\n",
    "# | stu_id | name  | roll | fees   | Email |\n",
    "# +--------+-------+------+--------+-------+\n",
    "# |      1 | Rohan |  101 | 1000.2 | NULL  |\n",
    "# +--------+-------+------+--------+-------+\n",
    "\n",
    "# Modify Data in specific column\n",
    "\n",
    "# UPDATE stu {Table_Name}\n",
    "#     -> SET {Column to modify} Email=\"kk@kk.com\"{modification}\n",
    "#     -> WHERE stu_id=1 {Serial number or something to find that specific row};"
   ]
  },
  {
   "cell_type": "code",
   "execution_count": null,
   "id": "557a6bde",
   "metadata": {},
   "outputs": [],
   "source": [
    "# Showing Content in Table\n",
    "\n",
    "import mysql.connector\n",
    "conn=mysql.connector.connect(user='root',password='Rahul',host='localhost',database='uk',port=3306)\n",
    "sql=\"SELECT * FROM Usernames\"\n",
    "myc=conn.cursor()\n",
    "\n",
    "myc.execute(sql)\n",
    "for d in myc:\n",
    "    print(d)\n",
    "conn.close()"
   ]
  },
  {
   "cell_type": "code",
   "execution_count": null,
   "id": "c9decf41",
   "metadata": {},
   "outputs": [],
   "source": []
  },
  {
   "cell_type": "code",
   "execution_count": null,
   "id": "44ee7d1f",
   "metadata": {},
   "outputs": [],
   "source": []
  },
  {
   "cell_type": "code",
   "execution_count": null,
   "id": "47d82e85",
   "metadata": {},
   "outputs": [],
   "source": []
  },
  {
   "cell_type": "code",
   "execution_count": null,
   "id": "1bcd61c5",
   "metadata": {},
   "outputs": [],
   "source": []
  },
  {
   "cell_type": "code",
   "execution_count": null,
   "id": "1be99c50",
   "metadata": {},
   "outputs": [],
   "source": [
    "# Create TABLE\n",
    "\n",
    "# CREATE TABLE Usernames(\n",
    "#    Sr_No    INTEGER  NOT NULL PRIMARY KEY \n",
    "#   ,Insta_ID VARCHAR(129)\n",
    "# );"
   ]
  },
  {
   "cell_type": "code",
   "execution_count": null,
   "id": "53141057",
   "metadata": {},
   "outputs": [],
   "source": [
    "# See First ten element in column (Insta_ID)\n",
    "\n",
    "# select *from mytable ORDER BY 'Insta_ID' LIMIT 10;"
   ]
  },
  {
   "cell_type": "code",
   "execution_count": null,
   "id": "598775af",
   "metadata": {},
   "outputs": [],
   "source": [
    "# show content in table\n",
    "# SELECT * FROM <TABLE NAME>"
   ]
  },
  {
   "cell_type": "code",
   "execution_count": null,
   "id": "ca6c58e4",
   "metadata": {},
   "outputs": [],
   "source": [
    "# Delete a Table\n",
    "\n",
    "# DROP table mytable;"
   ]
  },
  {
   "cell_type": "code",
   "execution_count": null,
   "id": "43ca388b",
   "metadata": {},
   "outputs": [],
   "source": [
    "# show tables in existing in databases\n",
    "\n",
    "# use {Name of database u want to see} Database;\n",
    "# SHOW TABLES;\n",
    "============= OR =========================\n",
    "# SHOW TABLES FROM database_name;"
   ]
  },
  {
   "cell_type": "code",
   "execution_count": null,
   "id": "290bfaf2",
   "metadata": {},
   "outputs": [],
   "source": [
    "# To add serial number column with auto serial number generator\n",
    "\n",
    "# select @globalVar:=@globalVar+1 Sr_No {COLUMN NAME},tblColumns.*\n",
    "\n",
    "# from (select @globalVar:=0) initializeGlobalVariable,mytable {YOUR TABLE NAME} tblColumns;\n"
   ]
  }
 ],
 "metadata": {
  "kernelspec": {
   "display_name": "Python 3",
   "language": "python",
   "name": "python3"
  },
  "language_info": {
   "codemirror_mode": {
    "name": "ipython",
    "version": 3
   },
   "file_extension": ".py",
   "mimetype": "text/x-python",
   "name": "python",
   "nbconvert_exporter": "python",
   "pygments_lexer": "ipython3",
   "version": "3.8.8"
  }
 },
 "nbformat": 4,
 "nbformat_minor": 5
}
